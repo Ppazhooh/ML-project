{
 "cells": [
  {
   "cell_type": "code",
   "execution_count": 1,
   "metadata": {},
   "outputs": [],
   "source": [
    "# Import general purpose packages\n",
    "import numpy as np \n",
    "import pandas as pd \n",
    "import sys\n",
    "import json\n",
    "import os\n",
    "import re\n",
    "\n",
    "# This is what we are using for data preparation and ML part (thanks, Rafal, for great tutorial)\n",
    "from sklearn.preprocessing import LabelBinarizer\n",
    "from nltk.stem import WordNetLemmatizer\n",
    "\n",
    "from sklearn.feature_extraction.text import TfidfVectorizer\n",
    "from nltk.corpus import stopwords\n",
    "\n",
    "from tensorflow import keras\n",
    "from tensorflow.keras import layers\n",
    "import tensorflow as tf\n",
    "from keras.models import Sequential\n",
    "\n",
    "from keras.layers import Activation, Dense,Dropout\n",
    "\n"
   ]
  },
  {
   "cell_type": "code",
   "execution_count": 2,
   "metadata": {},
   "outputs": [],
   "source": [
    "artists = pd.read_csv('artists-data.csv')\n",
    "songs = pd.read_csv('lyrics-data.csv') #load the list of songs"
   ]
  },
  {
   "cell_type": "code",
   "execution_count": 3,
   "metadata": {},
   "outputs": [
    {
     "data": {
      "text/html": [
       "<div>\n",
       "<style scoped>\n",
       "    .dataframe tbody tr th:only-of-type {\n",
       "        vertical-align: middle;\n",
       "    }\n",
       "\n",
       "    .dataframe tbody tr th {\n",
       "        vertical-align: top;\n",
       "    }\n",
       "\n",
       "    .dataframe thead th {\n",
       "        text-align: right;\n",
       "    }\n",
       "</style>\n",
       "<table border=\"1\" class=\"dataframe\">\n",
       "  <thead>\n",
       "    <tr style=\"text-align: right;\">\n",
       "      <th></th>\n",
       "      <th>Artist</th>\n",
       "      <th>Songs</th>\n",
       "      <th>Popularity</th>\n",
       "      <th>Link</th>\n",
       "      <th>Genre</th>\n",
       "      <th>Genres</th>\n",
       "    </tr>\n",
       "  </thead>\n",
       "  <tbody>\n",
       "    <tr>\n",
       "      <th>0</th>\n",
       "      <td>10000 Maniacs</td>\n",
       "      <td>110</td>\n",
       "      <td>0.3</td>\n",
       "      <td>/10000-maniacs/</td>\n",
       "      <td>Rock</td>\n",
       "      <td>Rock; Pop; Electronica; Dance; J-Pop/J-Rock; G...</td>\n",
       "    </tr>\n",
       "    <tr>\n",
       "      <th>1</th>\n",
       "      <td>12 Stones</td>\n",
       "      <td>75</td>\n",
       "      <td>0.3</td>\n",
       "      <td>/12-stones/</td>\n",
       "      <td>Rock</td>\n",
       "      <td>Rock; Gospel/Religioso; Hard Rock; Grunge; Roc...</td>\n",
       "    </tr>\n",
       "    <tr>\n",
       "      <th>2</th>\n",
       "      <td>311</td>\n",
       "      <td>196</td>\n",
       "      <td>0.5</td>\n",
       "      <td>/311/</td>\n",
       "      <td>Rock</td>\n",
       "      <td>Rock; Surf Music; Reggae; Ska; Pop/Rock; Rock ...</td>\n",
       "    </tr>\n",
       "    <tr>\n",
       "      <th>3</th>\n",
       "      <td>4 Non Blondes</td>\n",
       "      <td>15</td>\n",
       "      <td>7.5</td>\n",
       "      <td>/4-non-blondes/</td>\n",
       "      <td>Rock</td>\n",
       "      <td>Rock; Pop/Rock; Rock Alternativo; Grunge; Blue...</td>\n",
       "    </tr>\n",
       "    <tr>\n",
       "      <th>4</th>\n",
       "      <td>A Cruz Está Vazia</td>\n",
       "      <td>13</td>\n",
       "      <td>0.0</td>\n",
       "      <td>/a-cruz-esta-vazia/</td>\n",
       "      <td>Rock</td>\n",
       "      <td>Rock</td>\n",
       "    </tr>\n",
       "  </tbody>\n",
       "</table>\n",
       "</div>"
      ],
      "text/plain": [
       "              Artist  Songs  Popularity                 Link Genre  \\\n",
       "0      10000 Maniacs    110         0.3      /10000-maniacs/  Rock   \n",
       "1          12 Stones     75         0.3          /12-stones/  Rock   \n",
       "2                311    196         0.5                /311/  Rock   \n",
       "3      4 Non Blondes     15         7.5      /4-non-blondes/  Rock   \n",
       "4  A Cruz Está Vazia     13         0.0  /a-cruz-esta-vazia/  Rock   \n",
       "\n",
       "                                              Genres  \n",
       "0  Rock; Pop; Electronica; Dance; J-Pop/J-Rock; G...  \n",
       "1  Rock; Gospel/Religioso; Hard Rock; Grunge; Roc...  \n",
       "2  Rock; Surf Music; Reggae; Ska; Pop/Rock; Rock ...  \n",
       "3  Rock; Pop/Rock; Rock Alternativo; Grunge; Blue...  \n",
       "4                                               Rock  "
      ]
     },
     "execution_count": 3,
     "metadata": {},
     "output_type": "execute_result"
    }
   ],
   "source": [
    "artists.head()"
   ]
  },
  {
   "cell_type": "code",
   "execution_count": 4,
   "metadata": {},
   "outputs": [
    {
     "data": {
      "text/html": [
       "<div>\n",
       "<style scoped>\n",
       "    .dataframe tbody tr th:only-of-type {\n",
       "        vertical-align: middle;\n",
       "    }\n",
       "\n",
       "    .dataframe tbody tr th {\n",
       "        vertical-align: top;\n",
       "    }\n",
       "\n",
       "    .dataframe thead th {\n",
       "        text-align: right;\n",
       "    }\n",
       "</style>\n",
       "<table border=\"1\" class=\"dataframe\">\n",
       "  <thead>\n",
       "    <tr style=\"text-align: right;\">\n",
       "      <th></th>\n",
       "      <th>ALink</th>\n",
       "      <th>SName</th>\n",
       "      <th>SLink</th>\n",
       "      <th>Lyric</th>\n",
       "      <th>Idiom</th>\n",
       "    </tr>\n",
       "  </thead>\n",
       "  <tbody>\n",
       "    <tr>\n",
       "      <th>0</th>\n",
       "      <td>/10000-maniacs/</td>\n",
       "      <td>More Than This</td>\n",
       "      <td>/10000-maniacs/more-than-this.html</td>\n",
       "      <td>I could feel at the time. There was no way of ...</td>\n",
       "      <td>ENGLISH</td>\n",
       "    </tr>\n",
       "    <tr>\n",
       "      <th>1</th>\n",
       "      <td>/10000-maniacs/</td>\n",
       "      <td>Because The Night</td>\n",
       "      <td>/10000-maniacs/because-the-night.html</td>\n",
       "      <td>Take me now, baby, here as I am. Hold me close...</td>\n",
       "      <td>ENGLISH</td>\n",
       "    </tr>\n",
       "    <tr>\n",
       "      <th>2</th>\n",
       "      <td>/10000-maniacs/</td>\n",
       "      <td>These Are Days</td>\n",
       "      <td>/10000-maniacs/these-are-days.html</td>\n",
       "      <td>These are. These are days you'll remember. Nev...</td>\n",
       "      <td>ENGLISH</td>\n",
       "    </tr>\n",
       "    <tr>\n",
       "      <th>3</th>\n",
       "      <td>/10000-maniacs/</td>\n",
       "      <td>A Campfire Song</td>\n",
       "      <td>/10000-maniacs/a-campfire-song.html</td>\n",
       "      <td>A lie to say, \"O my mountain has coal veins an...</td>\n",
       "      <td>ENGLISH</td>\n",
       "    </tr>\n",
       "    <tr>\n",
       "      <th>4</th>\n",
       "      <td>/10000-maniacs/</td>\n",
       "      <td>Everyday Is Like Sunday</td>\n",
       "      <td>/10000-maniacs/everyday-is-like-sunday.html</td>\n",
       "      <td>Trudging slowly over wet sand. Back to the ben...</td>\n",
       "      <td>ENGLISH</td>\n",
       "    </tr>\n",
       "  </tbody>\n",
       "</table>\n",
       "</div>"
      ],
      "text/plain": [
       "             ALink                    SName  \\\n",
       "0  /10000-maniacs/           More Than This   \n",
       "1  /10000-maniacs/        Because The Night   \n",
       "2  /10000-maniacs/           These Are Days   \n",
       "3  /10000-maniacs/          A Campfire Song   \n",
       "4  /10000-maniacs/  Everyday Is Like Sunday   \n",
       "\n",
       "                                         SLink  \\\n",
       "0           /10000-maniacs/more-than-this.html   \n",
       "1        /10000-maniacs/because-the-night.html   \n",
       "2           /10000-maniacs/these-are-days.html   \n",
       "3          /10000-maniacs/a-campfire-song.html   \n",
       "4  /10000-maniacs/everyday-is-like-sunday.html   \n",
       "\n",
       "                                               Lyric    Idiom  \n",
       "0  I could feel at the time. There was no way of ...  ENGLISH  \n",
       "1  Take me now, baby, here as I am. Hold me close...  ENGLISH  \n",
       "2  These are. These are days you'll remember. Nev...  ENGLISH  \n",
       "3  A lie to say, \"O my mountain has coal veins an...  ENGLISH  \n",
       "4  Trudging slowly over wet sand. Back to the ben...  ENGLISH  "
      ]
     },
     "execution_count": 4,
     "metadata": {},
     "output_type": "execute_result"
    }
   ],
   "source": [
    "songs.head()"
   ]
  },
  {
   "cell_type": "code",
   "execution_count": 5,
   "metadata": {},
   "outputs": [
    {
     "data": {
      "text/plain": [
       "ENGLISH           114723\n",
       "PORTUGUESE         85085\n",
       "SPANISH             4812\n",
       "ITALIAN              626\n",
       "FRENCH               471\n",
       "GERMAN               314\n",
       "KINYARWANDA           88\n",
       "ICELANDIC             47\n",
       "SWEDISH               27\n",
       "FINNISH               24\n",
       "INDONESIAN            17\n",
       "ESTONIAN              12\n",
       "GALICIAN              12\n",
       "IRISH                  9\n",
       "HAITIAN_CREOLE         9\n",
       "DANISH                 9\n",
       "BASQUE                 8\n",
       "TAGALOG                7\n",
       "NORWEGIAN              7\n",
       "CROATIAN               7\n",
       "CATALAN                6\n",
       "SUNDANESE              6\n",
       "DUTCH                  5\n",
       "SWAHILI                5\n",
       "MALAY                  4\n",
       "RUSSIAN                4\n",
       "SERBIAN                3\n",
       "NYANJA                 2\n",
       "ARABIC                 2\n",
       "TURKISH                2\n",
       "MALAGASY               2\n",
       "JAPANESE               2\n",
       "SESOTHO                2\n",
       "CEBUANO                2\n",
       "KURDISH                2\n",
       "HMONG                  1\n",
       "SLOVAK                 1\n",
       "KOREAN                 1\n",
       "SLOVENIAN              1\n",
       "AFRIKAANS              1\n",
       "POLISH                 1\n",
       "WELSH                  1\n",
       "BOSNIAN                1\n",
       "GANDA                  1\n",
       "ROMANIAN               1\n",
       "CZECH                  1\n",
       "HUNGARIAN              1\n",
       "Name: Idiom, dtype: int64"
      ]
     },
     "execution_count": 5,
     "metadata": {},
     "output_type": "execute_result"
    }
   ],
   "source": [
    "songs['Idiom'].value_counts()"
   ]
  },
  {
   "cell_type": "code",
   "execution_count": 6,
   "metadata": {},
   "outputs": [],
   "source": [
    "data = pd.DataFrame() \n",
    "G=artists.Genre.unique()\n",
    "for genre in G:\n",
    "    Genre_artists = artists[artists['Genre']==genre] # filter artists by genre\n",
    "    Genre_songs = pd.merge(songs, Genre_artists, how='inner', left_on='ALink', right_on='Link') #inner join of pop artists with songs to get only songs by pop artists\n",
    "    Genre_songs = Genre_songs[['Genre', 'Artist', 'SName', 'Lyric','Idiom']].rename(columns={'SName':'Song'})#leave only columns of interest and rename some of them.\n",
    "    Genre_songs = Genre_songs.dropna() # Remove incomplete records, cleanse lyrics\n",
    "    #Genre_songs = Genre_songs[songs['Lyric']!='Instrumental'].head(SONGS_PER_GENRE).applymap(cleanse) #Remove instrumental compositions  and limit the size of final dataset\n",
    "    data=pd.concat([data, Genre_songs])\n",
    "    \n",
    "    \n",
    "data=data.loc[data['Idiom'] == 'ENGLISH']\n",
    "\n",
    "data.index = range(len(data))\n"
   ]
  },
  {
   "cell_type": "code",
   "execution_count": 7,
   "metadata": {},
   "outputs": [
    {
     "data": {
      "text/plain": [
       "Rock            60585\n",
       "Pop             40294\n",
       "Hip Hop         23108\n",
       "Funk Carioca      104\n",
       "Sertanejo          87\n",
       "Samba              52\n",
       "Name: Genre, dtype: int64"
      ]
     },
     "execution_count": 7,
     "metadata": {},
     "output_type": "execute_result"
    }
   ],
   "source": [
    "data['Genre'].value_counts()"
   ]
  },
  {
   "cell_type": "code",
   "execution_count": 8,
   "metadata": {},
   "outputs": [],
   "source": [
    "#Keep only 3 most frequent genrres\n",
    "data=data.loc[data['Genre'].isin(['Rock','Pop','Hip Hop'])]\n",
    "data.index = range(len(data))\n"
   ]
  },
  {
   "cell_type": "code",
   "execution_count": 9,
   "metadata": {},
   "outputs": [],
   "source": [
    "#Convert Categorical genre to binary label\n",
    "GenreBinarizer = LabelBinarizer().fit(data['Genre'])\n",
    "Genre_Label = GenreBinarizer.transform(data['Genre'])\n",
    "\n",
    "\n",
    "Genre_Label_df = pd.DataFrame(Genre_Label, columns =['G_H', 'G_P', 'G_R'])\n",
    "\n",
    "final_data=pd.concat([data, Genre_Label_df], axis=1)\n",
    "\n",
    "##### Shuffle data\n",
    "final_data=final_data.sample(frac=1) \n",
    "final_data.index = range(len(final_data))\n",
    "final_data=final_data.drop(columns=['Genre', 'Artist','Idiom'])"
   ]
  },
  {
   "cell_type": "code",
   "execution_count": 10,
   "metadata": {},
   "outputs": [],
   "source": [
    "#Creat train,validation and test data\n",
    "train_data=final_data[:87000]\n",
    "validation_data=final_data[87000:111600]\n",
    "test_data=final_data[111600:]"
   ]
  },
  {
   "cell_type": "code",
   "execution_count": 11,
   "metadata": {},
   "outputs": [],
   "source": [
    "documents = []\n",
    "stemmer = WordNetLemmatizer()\n",
    "for sen in range(0, len(train_data)):\n",
    "    temp=str(train_data['Lyric'].values[sen])\n",
    "    # Remove all the special characters\n",
    "    document = re.sub(r'\\W', ' ', str(temp))\n",
    "    \n",
    "    # remove all single characters\n",
    "    document = re.sub(r'\\s+[a-zA-Z]\\s+', ' ', document)\n",
    "    \n",
    "\n",
    "    \n",
    "    # Substituting multiple spaces with single space\n",
    "    document = re.sub(r'\\s+', ' ', document, flags=re.I)\n",
    "    \n",
    "    # Removing prefixed 'b'\n",
    "    document = re.sub(r'^b\\s+', '', document)\n",
    "    \n",
    "    # Converting to Lowercase\n",
    "    document = document.lower()\n",
    "    \n",
    "    # Lemmatization\n",
    "    document = document.split()\n",
    "\n",
    "    document = [stemmer.lemmatize(word) for word in document]\n",
    "    document = ' '.join(document)\n",
    "    \n",
    "    documents.append(document)\n",
    "    \n",
    "    \n",
    "train_Lyric=documents"
   ]
  },
  {
   "cell_type": "code",
   "execution_count": 12,
   "metadata": {},
   "outputs": [],
   "source": [
    "documents = []\n",
    "stemmer = WordNetLemmatizer()\n",
    "for sen in range(0, len(validation_data)):\n",
    "    temp=str(validation_data['Lyric'].values[sen])\n",
    "    # Remove all the special characters\n",
    "    document = re.sub(r'\\W', ' ', str(temp))\n",
    "    \n",
    "    # remove all single characters\n",
    "    document = re.sub(r'\\s+[a-zA-Z]\\s+', ' ', document)\n",
    "    \n",
    "\n",
    "    \n",
    "    # Substituting multiple spaces with single space\n",
    "    document = re.sub(r'\\s+', ' ', document, flags=re.I)\n",
    "    \n",
    "    # Removing prefixed 'b'\n",
    "    document = re.sub(r'^b\\s+', '', document)\n",
    "    \n",
    "    # Converting to Lowercase\n",
    "    document = document.lower()\n",
    "    \n",
    "    # Lemmatization\n",
    "    document = document.split()\n",
    "\n",
    "    document = [stemmer.lemmatize(word) for word in document]\n",
    "    document = ' '.join(document)\n",
    "    \n",
    "    documents.append(document)\n",
    "    \n",
    "    \n",
    "validation_Lyric=documents"
   ]
  },
  {
   "cell_type": "code",
   "execution_count": 13,
   "metadata": {},
   "outputs": [],
   "source": [
    "documents = []\n",
    "stemmer = WordNetLemmatizer()\n",
    "for sen in range(0, len(test_data)):\n",
    "    temp=str(test_data['Lyric'].values[sen])\n",
    "    # Remove all the special characters\n",
    "    document = re.sub(r'\\W', ' ', str(temp))\n",
    "    \n",
    "    # remove all single characters\n",
    "    document = re.sub(r'\\s+[a-zA-Z]\\s+', ' ', document)\n",
    "    \n",
    "\n",
    "    \n",
    "    # Substituting multiple spaces with single space\n",
    "    document = re.sub(r'\\s+', ' ', document, flags=re.I)\n",
    "    \n",
    "    # Removing prefixed 'b'\n",
    "    document = re.sub(r'^b\\s+', '', document)\n",
    "    \n",
    "    # Converting to Lowercase\n",
    "    document = document.lower()\n",
    "    \n",
    "    # Lemmatization\n",
    "    document = document.split()\n",
    "\n",
    "    document = [stemmer.lemmatize(word) for word in document]\n",
    "    document = ' '.join(document)\n",
    "    \n",
    "    documents.append(document)\n",
    "    \n",
    "    \n",
    "test_Lyric=documents"
   ]
  },
  {
   "cell_type": "code",
   "execution_count": 14,
   "metadata": {},
   "outputs": [],
   "source": [
    "tfidfconverter = TfidfVectorizer(max_features=2000,min_df=1, max_df=0.9, stop_words=stopwords.words('english'))\n",
    "#\n",
    "X_Lyric_train = tfidfconverter.fit_transform(train_Lyric).toarray()\n",
    "\n",
    "X_Lyric_validation = tfidfconverter.transform(validation_Lyric).toarray()\n",
    "\n",
    "X_Lyric_test = tfidfconverter.transform(test_Lyric).toarray()\n",
    "\n"
   ]
  },
  {
   "cell_type": "code",
   "execution_count": 15,
   "metadata": {},
   "outputs": [],
   "source": [
    "y_train=train_data[['G_H','G_P','G_R']].to_numpy()\n",
    "y_validation=validation_data[['G_H','G_P','G_R']].to_numpy()\n",
    "y_test=test_data[['G_H','G_P','G_R']].to_numpy()\n",
    "\n",
    "\n",
    "\n"
   ]
  },
  {
   "cell_type": "code",
   "execution_count": 26,
   "metadata": {},
   "outputs": [],
   "source": [
    "X_train_dim=X_Lyric_train.shape[1]\n",
    "model = Sequential()\n",
    "model.add(Dense(8, input_dim=X_train_dim, activation='relu'))\n",
    "model.add(Dense(3, activation='softmax'))\n",
    "model.compile(loss='categorical_crossentropy', optimizer='adam', metrics=['accuracy'])"
   ]
  },
  {
   "cell_type": "code",
   "execution_count": 28,
   "metadata": {},
   "outputs": [
    {
     "name": "stdout",
     "output_type": "stream",
     "text": [
      "Epoch 1/10\n",
      "4350/4350 [==============================] - 9s 2ms/step - loss: 0.6218 - accuracy: 0.7130 - val_loss: 0.7161 - val_accuracy: 0.6643\n",
      "Epoch 2/10\n",
      "4350/4350 [==============================] - 10s 2ms/step - loss: 0.6158 - accuracy: 0.7153 - val_loss: 0.7192 - val_accuracy: 0.6639\n",
      "Epoch 3/10\n",
      "4350/4350 [==============================] - 9s 2ms/step - loss: 0.6111 - accuracy: 0.7190 - val_loss: 0.7216 - val_accuracy: 0.6652\n",
      "Epoch 4/10\n",
      "4350/4350 [==============================] - 9s 2ms/step - loss: 0.6067 - accuracy: 0.7197 - val_loss: 0.7251 - val_accuracy: 0.6618\n",
      "Epoch 5/10\n",
      "4350/4350 [==============================] - 9s 2ms/step - loss: 0.6027 - accuracy: 0.7219 - val_loss: 0.7266 - val_accuracy: 0.6623\n",
      "Epoch 6/10\n",
      "4350/4350 [==============================] - 9s 2ms/step - loss: 0.5987 - accuracy: 0.7237 - val_loss: 0.7289 - val_accuracy: 0.6606\n",
      "Epoch 7/10\n",
      "4350/4350 [==============================] - 9s 2ms/step - loss: 0.5953 - accuracy: 0.7259 - val_loss: 0.7345 - val_accuracy: 0.6587\n",
      "Epoch 8/10\n",
      "4350/4350 [==============================] - 7s 2ms/step - loss: 0.5919 - accuracy: 0.7266 - val_loss: 0.7312 - val_accuracy: 0.6615\n",
      "Epoch 9/10\n",
      "4350/4350 [==============================] - 7s 2ms/step - loss: 0.5886 - accuracy: 0.7287 - val_loss: 0.7382 - val_accuracy: 0.6576\n",
      "Epoch 10/10\n",
      "4350/4350 [==============================] - 9s 2ms/step - loss: 0.5857 - accuracy: 0.7293 - val_loss: 0.7377 - val_accuracy: 0.6612\n"
     ]
    }
   ],
   "source": [
    "history=model.fit(x=X_Lyric_train, y=y_train, validation_data=(X_Lyric_validation,y_validation),epochs=10, batch_size=20)"
   ]
  },
  {
   "cell_type": "code",
   "execution_count": 29,
   "metadata": {},
   "outputs": [
    {
     "data": {
      "image/png": "[encoded data removed]",
      "text/plain": [
       "<Figure size 432x288 with 1 Axes>"
      ]
     },
     "metadata": {
      "needs_background": "light"
     },
     "output_type": "display_data"
    }
   ],
   "source": [
    "from matplotlib import pyplot as plt\n",
    "plt.plot(history.history['accuracy'])\n",
    "plt.plot(history.history['val_accuracy'])\n",
    "plt.title('Model accuracy')\n",
    "plt.ylabel('accuracy')\n",
    "plt.xlabel('Epoch')\n",
    "plt.legend(['train', 'val'], loc='upper left')\n",
    "plt.show()"
   ]
  },
  {
   "cell_type": "code",
   "execution_count": null,
   "metadata": {},
   "outputs": [],
   "source": []
  }
 ],
 "metadata": {
  "kernelspec": {
   "display_name": "Python 3",
   "language": "python",
   "name": "python3"
  },
  "language_info": {
   "codemirror_mode": {
    "name": "ipython",
    "version": 3
   },
   "file_extension": ".py",
   "mimetype": "text/x-python",
   "name": "python",
   "nbconvert_exporter": "python",
   "pygments_lexer": "ipython3",
   "version": "3.8.3"
  }
 },
 "nbformat": 4,
 "nbformat_minor": 4
}
